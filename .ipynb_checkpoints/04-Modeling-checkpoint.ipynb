{
 "cells": [
  {
   "cell_type": "markdown",
   "metadata": {},
   "source": [
    "# EDA"
   ]
  },
  {
   "cell_type": "markdown",
   "metadata": {},
   "source": [
    "## Import"
   ]
  },
  {
   "cell_type": "code",
   "execution_count": 1,
   "metadata": {},
   "outputs": [],
   "source": [
    "import numpy as np\n",
    "import pandas as pd\n",
    "import altair as alt\n",
    "import pyarrow.parquet as pq\n",
    "import pyarrow as pa\n",
    "%matplotlib inline\n",
    "import matplotlib.pyplot as plt\n",
    "from sklearn.metrics import confusion_matrix\n",
    "import seaborn as sns"
   ]
  },
  {
   "cell_type": "code",
   "execution_count": 2,
   "metadata": {},
   "outputs": [],
   "source": [
    "from sklearn.ensemble import RandomForestClassifier\n",
    "from sklearn.model_selection import cross_val_score\n",
    "from sklearn.neighbors import KNeighborsClassifier\n",
    "from sklearn.metrics import accuracy_score\n",
    "from sklearn.model_selection import train_test_split\n",
    "from sklearn.naive_bayes import GaussianNB"
   ]
  },
  {
   "cell_type": "markdown",
   "metadata": {},
   "source": [
    "## Data"
   ]
  },
  {
   "cell_type": "markdown",
   "metadata": {},
   "source": [
    "Load the data from parquet file"
   ]
  },
  {
   "cell_type": "code",
   "execution_count": 3,
   "metadata": {},
   "outputs": [],
   "source": [
    "team_table = pq.read_table('/data/bnguy123/team_table.parquet')\n",
    "team_att = team_table.to_pandas()\n",
    "match_table = pq.read_table('/data/bnguy123/match_table.parquet')\n",
    "match = match_table.to_pandas()"
   ]
  },
  {
   "cell_type": "markdown",
   "metadata": {},
   "source": [
    "## Modeling"
   ]
  },
  {
   "cell_type": "markdown",
   "metadata": {},
   "source": [
    "### Question 4:"
   ]
  },
  {
   "cell_type": "markdown",
   "metadata": {},
   "source": [
    "My fourth and last question is the following:\n",
    "\n",
    "> Can we predict the outcome of a soccer game from the attributes of each team?"
   ]
  },
  {
   "cell_type": "markdown",
   "metadata": {},
   "source": [
    "Let take a look at a data"
   ]
  },
  {
   "cell_type": "code",
   "execution_count": 4,
   "metadata": {},
   "outputs": [
    {
     "data": {
      "text/html": [
       "<div>\n",
       "<style scoped>\n",
       "    .dataframe tbody tr th:only-of-type {\n",
       "        vertical-align: middle;\n",
       "    }\n",
       "\n",
       "    .dataframe tbody tr th {\n",
       "        vertical-align: top;\n",
       "    }\n",
       "\n",
       "    .dataframe thead th {\n",
       "        text-align: right;\n",
       "    }\n",
       "</style>\n",
       "<table border=\"1\" class=\"dataframe\">\n",
       "  <thead>\n",
       "    <tr style=\"text-align: right;\">\n",
       "      <th></th>\n",
       "      <th>season</th>\n",
       "      <th>home_team_api_id</th>\n",
       "      <th>away_team_api_id</th>\n",
       "      <th>home_team_goal</th>\n",
       "      <th>away_team_goal</th>\n",
       "      <th>home_team</th>\n",
       "      <th>away_team</th>\n",
       "      <th>country_name</th>\n",
       "      <th>result</th>\n",
       "    </tr>\n",
       "    <tr>\n",
       "      <th>match_api_id</th>\n",
       "      <th></th>\n",
       "      <th></th>\n",
       "      <th></th>\n",
       "      <th></th>\n",
       "      <th></th>\n",
       "      <th></th>\n",
       "      <th></th>\n",
       "      <th></th>\n",
       "      <th></th>\n",
       "    </tr>\n",
       "  </thead>\n",
       "  <tbody>\n",
       "    <tr>\n",
       "      <th>492473</th>\n",
       "      <td>2008/2009</td>\n",
       "      <td>9987</td>\n",
       "      <td>9993</td>\n",
       "      <td>1</td>\n",
       "      <td>1</td>\n",
       "      <td>GEN</td>\n",
       "      <td>BAC</td>\n",
       "      <td>Belgium</td>\n",
       "      <td>tie</td>\n",
       "    </tr>\n",
       "    <tr>\n",
       "      <th>665353</th>\n",
       "      <td>2009/2010</td>\n",
       "      <td>9987</td>\n",
       "      <td>9993</td>\n",
       "      <td>1</td>\n",
       "      <td>1</td>\n",
       "      <td>GEN</td>\n",
       "      <td>BAC</td>\n",
       "      <td>Belgium</td>\n",
       "      <td>tie</td>\n",
       "    </tr>\n",
       "    <tr>\n",
       "      <th>838476</th>\n",
       "      <td>2010/2011</td>\n",
       "      <td>9987</td>\n",
       "      <td>9993</td>\n",
       "      <td>2</td>\n",
       "      <td>1</td>\n",
       "      <td>GEN</td>\n",
       "      <td>BAC</td>\n",
       "      <td>Belgium</td>\n",
       "      <td>win</td>\n",
       "    </tr>\n",
       "    <tr>\n",
       "      <th>1032694</th>\n",
       "      <td>2011/2012</td>\n",
       "      <td>9987</td>\n",
       "      <td>9993</td>\n",
       "      <td>3</td>\n",
       "      <td>1</td>\n",
       "      <td>GEN</td>\n",
       "      <td>BAC</td>\n",
       "      <td>Belgium</td>\n",
       "      <td>win</td>\n",
       "    </tr>\n",
       "    <tr>\n",
       "      <th>1224064</th>\n",
       "      <td>2012/2013</td>\n",
       "      <td>9987</td>\n",
       "      <td>9993</td>\n",
       "      <td>3</td>\n",
       "      <td>0</td>\n",
       "      <td>GEN</td>\n",
       "      <td>BAC</td>\n",
       "      <td>Belgium</td>\n",
       "      <td>win</td>\n",
       "    </tr>\n",
       "  </tbody>\n",
       "</table>\n",
       "</div>"
      ],
      "text/plain": [
       "                 season  home_team_api_id  away_team_api_id  home_team_goal  \\\n",
       "match_api_id                                                                  \n",
       "492473        2008/2009              9987              9993               1   \n",
       "665353        2009/2010              9987              9993               1   \n",
       "838476        2010/2011              9987              9993               2   \n",
       "1032694       2011/2012              9987              9993               3   \n",
       "1224064       2012/2013              9987              9993               3   \n",
       "\n",
       "              away_team_goal home_team away_team country_name result  \n",
       "match_api_id                                                          \n",
       "492473                     1       GEN       BAC      Belgium    tie  \n",
       "665353                     1       GEN       BAC      Belgium    tie  \n",
       "838476                     1       GEN       BAC      Belgium    win  \n",
       "1032694                    1       GEN       BAC      Belgium    win  \n",
       "1224064                    0       GEN       BAC      Belgium    win  "
      ]
     },
     "execution_count": 4,
     "metadata": {},
     "output_type": "execute_result"
    }
   ],
   "source": [
    "match.head()"
   ]
  },
  {
   "cell_type": "markdown",
   "metadata": {},
   "source": [
    "Since the team attribute we get is from 2015 so we just care about the game in season 2015/2016"
   ]
  },
  {
   "cell_type": "code",
   "execution_count": 5,
   "metadata": {},
   "outputs": [
    {
     "data": {
      "text/html": [
       "<div>\n",
       "<style scoped>\n",
       "    .dataframe tbody tr th:only-of-type {\n",
       "        vertical-align: middle;\n",
       "    }\n",
       "\n",
       "    .dataframe tbody tr th {\n",
       "        vertical-align: top;\n",
       "    }\n",
       "\n",
       "    .dataframe thead th {\n",
       "        text-align: right;\n",
       "    }\n",
       "</style>\n",
       "<table border=\"1\" class=\"dataframe\">\n",
       "  <thead>\n",
       "    <tr style=\"text-align: right;\">\n",
       "      <th></th>\n",
       "      <th>season</th>\n",
       "      <th>home_team_api_id</th>\n",
       "      <th>away_team_api_id</th>\n",
       "      <th>home_team_goal</th>\n",
       "      <th>away_team_goal</th>\n",
       "      <th>home_team</th>\n",
       "      <th>away_team</th>\n",
       "      <th>country_name</th>\n",
       "      <th>result</th>\n",
       "    </tr>\n",
       "    <tr>\n",
       "      <th>match_api_id</th>\n",
       "      <th></th>\n",
       "      <th></th>\n",
       "      <th></th>\n",
       "      <th></th>\n",
       "      <th></th>\n",
       "      <th></th>\n",
       "      <th></th>\n",
       "      <th></th>\n",
       "      <th></th>\n",
       "    </tr>\n",
       "  </thead>\n",
       "  <tbody>\n",
       "    <tr>\n",
       "      <th>1980066</th>\n",
       "      <td>2015/2016</td>\n",
       "      <td>9987</td>\n",
       "      <td>9986</td>\n",
       "      <td>2</td>\n",
       "      <td>0</td>\n",
       "      <td>GEN</td>\n",
       "      <td>CHA</td>\n",
       "      <td>Belgium</td>\n",
       "      <td>win</td>\n",
       "    </tr>\n",
       "    <tr>\n",
       "      <th>1980019</th>\n",
       "      <td>2015/2016</td>\n",
       "      <td>10000</td>\n",
       "      <td>9986</td>\n",
       "      <td>2</td>\n",
       "      <td>3</td>\n",
       "      <td>ZUL</td>\n",
       "      <td>CHA</td>\n",
       "      <td>Belgium</td>\n",
       "      <td>loose</td>\n",
       "    </tr>\n",
       "    <tr>\n",
       "      <th>1979938</th>\n",
       "      <td>2015/2016</td>\n",
       "      <td>9991</td>\n",
       "      <td>9986</td>\n",
       "      <td>1</td>\n",
       "      <td>3</td>\n",
       "      <td>GEN</td>\n",
       "      <td>CHA</td>\n",
       "      <td>Belgium</td>\n",
       "      <td>loose</td>\n",
       "    </tr>\n",
       "    <tr>\n",
       "      <th>1979890</th>\n",
       "      <td>2015/2016</td>\n",
       "      <td>8203</td>\n",
       "      <td>9986</td>\n",
       "      <td>0</td>\n",
       "      <td>1</td>\n",
       "      <td>MEC</td>\n",
       "      <td>CHA</td>\n",
       "      <td>Belgium</td>\n",
       "      <td>loose</td>\n",
       "    </tr>\n",
       "    <tr>\n",
       "      <th>1979983</th>\n",
       "      <td>2015/2016</td>\n",
       "      <td>10001</td>\n",
       "      <td>9986</td>\n",
       "      <td>2</td>\n",
       "      <td>1</td>\n",
       "      <td>WES</td>\n",
       "      <td>CHA</td>\n",
       "      <td>Belgium</td>\n",
       "      <td>win</td>\n",
       "    </tr>\n",
       "  </tbody>\n",
       "</table>\n",
       "</div>"
      ],
      "text/plain": [
       "                 season  home_team_api_id  away_team_api_id  home_team_goal  \\\n",
       "match_api_id                                                                  \n",
       "1980066       2015/2016              9987              9986               2   \n",
       "1980019       2015/2016             10000              9986               2   \n",
       "1979938       2015/2016              9991              9986               1   \n",
       "1979890       2015/2016              8203              9986               0   \n",
       "1979983       2015/2016             10001              9986               2   \n",
       "\n",
       "              away_team_goal home_team away_team country_name result  \n",
       "match_api_id                                                          \n",
       "1980066                    0       GEN       CHA      Belgium    win  \n",
       "1980019                    3       ZUL       CHA      Belgium  loose  \n",
       "1979938                    3       GEN       CHA      Belgium  loose  \n",
       "1979890                    1       MEC       CHA      Belgium  loose  \n",
       "1979983                    1       WES       CHA      Belgium    win  "
      ]
     },
     "execution_count": 5,
     "metadata": {},
     "output_type": "execute_result"
    }
   ],
   "source": [
    "match = match[match['season'] == '2015/2016']\n",
    "match.head()"
   ]
  },
  {
   "cell_type": "markdown",
   "metadata": {},
   "source": [
    " Now let go ahead and add the attributes of each team to dataframe and delete the columns that we don't need"
   ]
  },
  {
   "cell_type": "code",
   "execution_count": 6,
   "metadata": {},
   "outputs": [],
   "source": [
    "temp = pd.merge(match, team_att, left_on='home_team_api_id', right_index=True)\n",
    "predict_data = pd.merge(temp, team_att, left_on='away_team_api_id', right_index=True)\n",
    "predict_data = predict_data.drop(['season','home_team_api_id','away_team_api_id', \n",
    "                                  'home_team_goal','away_team_goal','country_name_x',\n",
    "                                  'date_update_x','date_update_y','country_name',\n",
    "                                  'country_name_y','home_team', 'away_team' ], axis = 1)"
   ]
  },
  {
   "cell_type": "code",
   "execution_count": 7,
   "metadata": {},
   "outputs": [
    {
     "data": {
      "text/html": [
       "<div>\n",
       "<style scoped>\n",
       "    .dataframe tbody tr th:only-of-type {\n",
       "        vertical-align: middle;\n",
       "    }\n",
       "\n",
       "    .dataframe tbody tr th {\n",
       "        vertical-align: top;\n",
       "    }\n",
       "\n",
       "    .dataframe thead th {\n",
       "        text-align: right;\n",
       "    }\n",
       "</style>\n",
       "<table border=\"1\" class=\"dataframe\">\n",
       "  <thead>\n",
       "    <tr style=\"text-align: right;\">\n",
       "      <th></th>\n",
       "      <th>result</th>\n",
       "      <th>speed_x</th>\n",
       "      <th>dribbling_x</th>\n",
       "      <th>passing_x</th>\n",
       "      <th>crossing_x</th>\n",
       "      <th>shooting_x</th>\n",
       "      <th>defence_x</th>\n",
       "      <th>speed_y</th>\n",
       "      <th>dribbling_y</th>\n",
       "      <th>passing_y</th>\n",
       "      <th>crossing_y</th>\n",
       "      <th>shooting_y</th>\n",
       "      <th>defence_y</th>\n",
       "    </tr>\n",
       "    <tr>\n",
       "      <th>match_api_id</th>\n",
       "      <th></th>\n",
       "      <th></th>\n",
       "      <th></th>\n",
       "      <th></th>\n",
       "      <th></th>\n",
       "      <th></th>\n",
       "      <th></th>\n",
       "      <th></th>\n",
       "      <th></th>\n",
       "      <th></th>\n",
       "      <th></th>\n",
       "      <th></th>\n",
       "      <th></th>\n",
       "    </tr>\n",
       "  </thead>\n",
       "  <tbody>\n",
       "    <tr>\n",
       "      <th>1980066</th>\n",
       "      <td>win</td>\n",
       "      <td>58</td>\n",
       "      <td>52.0</td>\n",
       "      <td>34</td>\n",
       "      <td>69</td>\n",
       "      <td>56</td>\n",
       "      <td>54</td>\n",
       "      <td>60</td>\n",
       "      <td>47.0</td>\n",
       "      <td>50</td>\n",
       "      <td>50</td>\n",
       "      <td>48</td>\n",
       "      <td>45</td>\n",
       "    </tr>\n",
       "    <tr>\n",
       "      <th>1980019</th>\n",
       "      <td>loose</td>\n",
       "      <td>54</td>\n",
       "      <td>42.0</td>\n",
       "      <td>49</td>\n",
       "      <td>52</td>\n",
       "      <td>32</td>\n",
       "      <td>46</td>\n",
       "      <td>60</td>\n",
       "      <td>47.0</td>\n",
       "      <td>50</td>\n",
       "      <td>50</td>\n",
       "      <td>48</td>\n",
       "      <td>45</td>\n",
       "    </tr>\n",
       "    <tr>\n",
       "      <th>1979938</th>\n",
       "      <td>loose</td>\n",
       "      <td>50</td>\n",
       "      <td>55.0</td>\n",
       "      <td>39</td>\n",
       "      <td>66</td>\n",
       "      <td>34</td>\n",
       "      <td>51</td>\n",
       "      <td>60</td>\n",
       "      <td>47.0</td>\n",
       "      <td>50</td>\n",
       "      <td>50</td>\n",
       "      <td>48</td>\n",
       "      <td>45</td>\n",
       "    </tr>\n",
       "    <tr>\n",
       "      <th>1979890</th>\n",
       "      <td>loose</td>\n",
       "      <td>52</td>\n",
       "      <td>42.0</td>\n",
       "      <td>43</td>\n",
       "      <td>53</td>\n",
       "      <td>50</td>\n",
       "      <td>48</td>\n",
       "      <td>60</td>\n",
       "      <td>47.0</td>\n",
       "      <td>50</td>\n",
       "      <td>50</td>\n",
       "      <td>48</td>\n",
       "      <td>45</td>\n",
       "    </tr>\n",
       "    <tr>\n",
       "      <th>1979983</th>\n",
       "      <td>win</td>\n",
       "      <td>52</td>\n",
       "      <td>46.0</td>\n",
       "      <td>53</td>\n",
       "      <td>55</td>\n",
       "      <td>32</td>\n",
       "      <td>48</td>\n",
       "      <td>60</td>\n",
       "      <td>47.0</td>\n",
       "      <td>50</td>\n",
       "      <td>50</td>\n",
       "      <td>48</td>\n",
       "      <td>45</td>\n",
       "    </tr>\n",
       "  </tbody>\n",
       "</table>\n",
       "</div>"
      ],
      "text/plain": [
       "             result  speed_x  dribbling_x  passing_x  crossing_x  shooting_x  \\\n",
       "match_api_id                                                                   \n",
       "1980066         win       58         52.0         34          69          56   \n",
       "1980019       loose       54         42.0         49          52          32   \n",
       "1979938       loose       50         55.0         39          66          34   \n",
       "1979890       loose       52         42.0         43          53          50   \n",
       "1979983         win       52         46.0         53          55          32   \n",
       "\n",
       "              defence_x  speed_y  dribbling_y  passing_y  crossing_y  \\\n",
       "match_api_id                                                           \n",
       "1980066              54       60         47.0         50          50   \n",
       "1980019              46       60         47.0         50          50   \n",
       "1979938              51       60         47.0         50          50   \n",
       "1979890              48       60         47.0         50          50   \n",
       "1979983              48       60         47.0         50          50   \n",
       "\n",
       "              shooting_y  defence_y  \n",
       "match_api_id                         \n",
       "1980066               48         45  \n",
       "1980019               48         45  \n",
       "1979938               48         45  \n",
       "1979890               48         45  \n",
       "1979983               48         45  "
      ]
     },
     "execution_count": 7,
     "metadata": {},
     "output_type": "execute_result"
    }
   ],
   "source": [
    "predict_data.head()"
   ]
  },
  {
   "cell_type": "markdown",
   "metadata": {},
   "source": [
    "And then get the the values in column result is to what we want to predict, that we will predict the result of home team (home team win, tie or loose)"
   ]
  },
  {
   "cell_type": "code",
   "execution_count": 8,
   "metadata": {},
   "outputs": [],
   "source": [
    "X_game = predict_data.drop('result', axis=1)\n",
    "y_game = predict_data['result']"
   ]
  },
  {
   "cell_type": "code",
   "execution_count": 9,
   "metadata": {},
   "outputs": [],
   "source": [
    "assert len(X_game) == len(y_game) == len(predict_data)\n",
    "assert len(X_game.columns) == len(predict_data.columns) -1"
   ]
  },
  {
   "cell_type": "markdown",
   "metadata": {},
   "source": [
    "Split your data into a training and test set with 70% of the data used for training and a random_state=0:"
   ]
  },
  {
   "cell_type": "code",
   "execution_count": 10,
   "metadata": {},
   "outputs": [],
   "source": [
    "X_game_train, X_game_test, y_game_train, y_game_test = train_test_split(X_game, y_game, \n",
    "                                        random_state=0, test_size = 0.3)"
   ]
  },
  {
   "cell_type": "markdown",
   "metadata": {},
   "source": [
    "Now I come up with Gaussian Naive Bayes model to train my data which give me the best out come compare to KNeighborsClassifier and Random Forests"
   ]
  },
  {
   "cell_type": "code",
   "execution_count": 11,
   "metadata": {},
   "outputs": [],
   "source": [
    "model = GaussianNB()                       \n",
    "model.fit(X_game_train, y_game_train)                  \n",
    "y_model = model.predict(X_game_test) "
   ]
  },
  {
   "cell_type": "markdown",
   "metadata": {},
   "source": [
    "Let compute the accuracy of the model that we trained by split the data to training set and test set above"
   ]
  },
  {
   "cell_type": "code",
   "execution_count": 12,
   "metadata": {},
   "outputs": [
    {
     "data": {
      "text/plain": [
       "0.4689265536723164"
      ]
     },
     "execution_count": 12,
     "metadata": {},
     "output_type": "execute_result"
    }
   ],
   "source": [
    "accuracy_score(y_game_test, y_model)"
   ]
  },
  {
   "cell_type": "markdown",
   "metadata": {},
   "source": [
    "I can also use cross_val_score to perform k-fold cross validation (k=10) with this model to get the more accuracy result"
   ]
  },
  {
   "cell_type": "code",
   "execution_count": 13,
   "metadata": {},
   "outputs": [
    {
     "data": {
      "text/plain": [
       "array([0.45608108, 0.47297297, 0.47635135, 0.40878378, 0.38175676,\n",
       "       0.45423729, 0.48639456, 0.49146758, 0.47098976, 0.45051195])"
      ]
     },
     "execution_count": 13,
     "metadata": {},
     "output_type": "execute_result"
    }
   ],
   "source": [
    "result = cross_val_score(model, X_game, y_game, cv=10)\n",
    "result"
   ]
  },
  {
   "cell_type": "code",
   "execution_count": 14,
   "metadata": {},
   "outputs": [
    {
     "data": {
      "text/plain": [
       "0.45495470751811184"
      ]
     },
     "execution_count": 14,
     "metadata": {},
     "output_type": "execute_result"
    }
   ],
   "source": [
    "result.mean()"
   ]
  },
  {
   "cell_type": "markdown",
   "metadata": {},
   "source": [
    "This is still a good result since we have three different possible out come home team tie, win or loose, and this model give a prediction with accuracy more than 45% compare 33%.\n",
    "Now let use confusion matrix to learn more about the performance of this model "
   ]
  },
  {
   "cell_type": "code",
   "execution_count": 15,
   "metadata": {},
   "outputs": [
    {
     "data": {
      "image/png": "[encoded data removed]",
      "text/plain": [
       "<matplotlib.figure.Figure at 0x7efee00355c0>"
      ]
     },
     "metadata": {},
     "output_type": "display_data"
    }
   ],
   "source": [
    "mat = confusion_matrix(y_game_test, y_model)\n",
    "sns.heatmap(mat.T, square=True, annot=True, fmt='d', cbar=False,\n",
    "            xticklabels=['loose','tie','win'], yticklabels=['loose','tie','win'])\n",
    "plt.xlabel('Result label')\n",
    "plt.ylabel('predicted result');"
   ]
  },
  {
   "cell_type": "markdown",
   "metadata": {},
   "source": [
    "From the confusion matrix we can easily see that this model is very successful in predict the home team is winning, but confusing in predict the home team is loose and especially which game is tie. It is reasonable since in the real life is is very difficult to predict if a game is tie. "
   ]
  },
  {
   "cell_type": "markdown",
   "metadata": {},
   "source": [
    "## Conclusion"
   ]
  },
  {
   "cell_type": "markdown",
   "metadata": {},
   "source": [
    "We all know that to predict a outcome of a game is never been easy because beside those attributes of the two teams, there are many real time factor that can affect the outcome of a game such as the changing of roster if there is any player was injured or the form of that team during that time. Therefore, to make a better decision, we can look at the probaility of each outcome by predict_proba method and combine with the real time factor to give the final decision"
   ]
  },
  {
   "cell_type": "code",
   "execution_count": 16,
   "metadata": {},
   "outputs": [
    {
     "data": {
      "text/plain": [
       "array([[0.32, 0.35, 0.32]])"
      ]
     },
     "execution_count": 16,
     "metadata": {},
     "output_type": "execute_result"
    }
   ],
   "source": [
    "yprob = model.predict_proba(X_game_test)\n",
    "yprob[-1:].round(2)"
   ]
  },
  {
   "cell_type": "code",
   "execution_count": null,
   "metadata": {},
   "outputs": [],
   "source": []
  }
 ],
 "metadata": {
  "kernelspec": {
   "display_name": "Python 3",
   "language": "python",
   "name": "python3"
  },
  "language_info": {
   "codemirror_mode": {
    "name": "ipython",
    "version": 3
   },
   "file_extension": ".py",
   "mimetype": "text/x-python",
   "name": "python",
   "nbconvert_exporter": "python",
   "pygments_lexer": "ipython3",
   "version": "3.6.3"
  }
 },
 "nbformat": 4,
 "nbformat_minor": 2
}
