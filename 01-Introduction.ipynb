{
 "cells": [
  {
   "cell_type": "markdown",
   "metadata": {},
   "source": [
    "# Introduction"
   ]
  },
  {
   "cell_type": "markdown",
   "metadata": {},
   "source": [
    "## Abstract"
   ]
  },
  {
   "cell_type": "markdown",
   "metadata": {},
   "source": [
    "In this project I am working with the Eropean soccer database to explore the attributes of the team as well as make a comparison between the teams in the 11 Europe countries by using the python and other library package such as matplotlib, Altair, nertworkx. In addtion, applying machine learning to build a model to predict the outcome of a game."
   ]
  },
  {
   "cell_type": "markdown",
   "metadata": {},
   "source": [
    "## Description of the dataset"
   ]
  },
  {
   "cell_type": "markdown",
   "metadata": {},
   "source": [
    "The European soccer database is an ultimate Soccer database on Kaggle inlcuding more than 10,000 players and 25,000 matches in 11 European Countries with their lead championship from season 2008 to 2016. This data also include the attributes of the teams in these coutry from EA Sports' FIFA. \n",
    "This dataset is a sqlite file include 7 tables:\n",
    "* Country: Id and name of country\n",
    "* League:Id, country and name of league\n",
    "* Match: Id of two team and the events of the game such as goal, corner, cross, fouls, etc\n",
    "* Player: Player's information\n",
    "* Player_Attributes: Attributes of player\n",
    "* Team: team's information\n",
    "* Team_attribute: Attributes of each team"
   ]
  },
  {
   "cell_type": "markdown",
   "metadata": {},
   "source": [
    "## Outline"
   ]
  },
  {
   "cell_type": "markdown",
   "metadata": {},
   "source": [
    "* [Introduction](01-Introduction.ipynb): \n",
    "    * Introduction about project\n",
    "* [Import and Tidy](02-Import and Tidy.ipynb): \n",
    "    * Import and tidying the data\n",
    "* [EDA](03-EDA.ipynb): \n",
    "    * Make some visualization to explore the data\n",
    "* [Modeling](04-Modeling.ipynb): \n",
    "    * Using machine learning to predict the outcome of a game\n",
    "* [Presentation](05-Presentation.ipynb): \n",
    "    * Presentation file"
   ]
  },
  {
   "cell_type": "markdown",
   "metadata": {},
   "source": [
    "## Citations"
   ]
  },
  {
   "cell_type": "markdown",
   "metadata": {},
   "source": [
    "* Networkx documentation: https://networkx.github.io/documentation/networkx-1.10/examples/drawing/chess_masters.html\n",
    "* Plotly documentation: https://plot.ly/python/radar-chart/\n",
    "* Kaggle dataset: https://www.kaggle.com/hugomathien/soccer/data\n",
    "* Jupiter Notebook"
   ]
  },
  {
   "cell_type": "code",
   "execution_count": null,
   "metadata": {},
   "outputs": [],
   "source": []
  }
 ],
 "metadata": {
  "kernelspec": {
   "display_name": "Python 3",
   "language": "python",
   "name": "python3"
  },
  "language_info": {
   "codemirror_mode": {
    "name": "ipython",
    "version": 3
   },
   "file_extension": ".py",
   "mimetype": "text/x-python",
   "name": "python",
   "nbconvert_exporter": "python",
   "pygments_lexer": "ipython3",
   "version": "3.6.3"
  }
 },
 "nbformat": 4,
 "nbformat_minor": 2
}
